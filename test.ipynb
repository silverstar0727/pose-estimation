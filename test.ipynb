{
  "nbformat": 4,
  "nbformat_minor": 0,
  "metadata": {
    "colab": {
      "name": "test.ipynb",
      "provenance": [],
      "collapsed_sections": [],
      "authorship_tag": "ABX9TyNZqUrZmEoph3W54FM5Novk",
      "include_colab_link": true
    },
    "kernelspec": {
      "name": "python3",
      "display_name": "Python 3"
    },
    "language_info": {
      "name": "python"
    }
  },
  "cells": [
    {
      "cell_type": "markdown",
      "metadata": {
        "id": "view-in-github",
        "colab_type": "text"
      },
      "source": [
        "<a href=\"https://colab.research.google.com/github/silverstar0727/pose-estimation/blob/main/test.ipynb\" target=\"_parent\"><img src=\"https://colab.research.google.com/assets/colab-badge.svg\" alt=\"Open In Colab\"/></a>"
      ]
    },
    {
      "cell_type": "code",
      "metadata": {
        "id": "LM244BwFIdYV",
        "colab": {
          "base_uri": "https://localhost:8080/"
        },
        "outputId": "9f4c8ac3-84c9-4603-84ca-3c2981c023b6"
      },
      "source": [
        "!pip install tqdm==4.56.0 -q\n",
        "!pip install mediapipe==0.8.3 -q"
      ],
      "execution_count": 1,
      "outputs": [
        {
          "output_type": "stream",
          "text": [
            "\u001b[K     |████████████████████████████████| 72 kB 845 kB/s \n",
            "\u001b[K     |████████████████████████████████| 67.0 MB 23 kB/s \n",
            "\u001b[K     |████████████████████████████████| 14.9 MB 100 kB/s \n",
            "\u001b[31mERROR: pip's dependency resolver does not currently take into account all the packages that are installed. This behaviour is the source of the following dependency conflicts.\n",
            "datascience 0.10.6 requires folium==0.2.1, but you have folium 0.8.3 which is incompatible.\n",
            "albumentations 0.1.12 requires imgaug<0.2.7,>=0.2.5, but you have imgaug 0.2.9 which is incompatible.\u001b[0m\n",
            "\u001b[?25h"
          ],
          "name": "stdout"
        }
      ]
    },
    {
      "cell_type": "code",
      "metadata": {
        "id": "Ixo9eqWPH7R8",
        "colab": {
          "base_uri": "https://localhost:8080/"
        },
        "outputId": "8b78c176-97cd-4386-97e5-d2f4c4913794"
      },
      "source": [
        "import csv\n",
        "import cv2\n",
        "import numpy as np\n",
        "import os\n",
        "import sys\n",
        "import tqdm\n",
        "\n",
        "import pandas as pd\n",
        "\n",
        "from mediapipe.python.solutions import pose as mp_pose\n",
        "\n",
        "import pickle\n",
        "from sklearn.externals import joblib\n",
        "from sklearn.neighbors import KNeighborsClassifier"
      ],
      "execution_count": 2,
      "outputs": [
        {
          "output_type": "stream",
          "text": [
            "/usr/local/lib/python3.7/dist-packages/sklearn/externals/joblib/__init__.py:15: FutureWarning: sklearn.externals.joblib is deprecated in 0.21 and will be removed in 0.23. Please import this functionality directly from joblib, which can be installed with: pip install joblib. If this warning is raised when loading pickled models, you may need to re-serialize those models with scikit-learn 0.21+.\n",
            "  warnings.warn(msg, category=FutureWarning)\n"
          ],
          "name": "stderr"
        }
      ]
    },
    {
      "cell_type": "code",
      "metadata": {
        "id": "lfOzz41HLRon"
      },
      "source": [
        "def landmarks(input_frame):\n",
        "    input_frame = cv2.cvtColor(input_frame, cv2.COLOR_BGR2RGB)\n",
        "\n",
        "      # Initialize fresh pose tracker and run it.\n",
        "    with mp_pose.Pose(upper_body_only=True) as pose_tracker:\n",
        "        result = pose_tracker.process(image=input_frame)\n",
        "        pose_landmarks = result.pose_landmarks\n",
        "      \n",
        "      # Save landmarks.\n",
        "    if pose_landmarks is not None:\n",
        "        # Check the number of landmarks and take pose landmarks.\n",
        "        assert len(pose_landmarks.landmark) == 25, 'Unexpected number of predicted pose landmarks: {}'.format(len(pose_landmarks.landmark))\n",
        "        pose_landmarks = [[lmk.x, lmk.y, lmk.z] for lmk in pose_landmarks.landmark]\n",
        "\n",
        "        # Map pose landmarks from [0, 1] range to absolute coordinates to get\n",
        "        # correct aspect ratio.\n",
        "        frame_height, frame_width = input_frame.shape[:2]\n",
        "        pose_landmarks *= np.array([frame_width, frame_height, frame_width])\n",
        "\n",
        "        # Write pose sample to CSV.\n",
        "        pose_landmarks = np.around(pose_landmarks, 5).flatten().astype(np.float64).tolist()\n",
        "\n",
        "        return pose_landmarks"
      ],
      "execution_count": 6,
      "outputs": []
    },
    {
      "cell_type": "code",
      "metadata": {
        "colab": {
          "base_uri": "https://localhost:8080/"
        },
        "id": "ynFPssVRNGOp",
        "outputId": "62766f58-8230-4ae5-87e1-eb59a61bd8c1"
      },
      "source": [
        "images_in_folder = 'study'\n",
        "images_out_folder = 'stduy_out'\n",
        "csv_out_path = 'study_result.csv'\n",
        "\n",
        "with open(csv_out_path, 'w') as csv_out_file:\n",
        "    csv_out_writer = csv.writer(csv_out_file, delimiter=',', quoting=csv.QUOTE_MINIMAL)\n",
        "\n",
        "    # Folder names are used as pose class names.\n",
        "    pose_class_names = sorted([n for n in os.listdir(images_in_folder) if not n.startswith('.')])\n",
        "\n",
        "    for pose_class_name in pose_class_names:\n",
        "        print('Bootstrapping ', pose_class_name, file=sys.stderr)\n",
        "\n",
        "        if not os.path.exists(os.path.join(images_out_folder, pose_class_name)):\n",
        "            os.makedirs(os.path.join(images_out_folder, pose_class_name))\n",
        "\n",
        "        image_names = sorted([\n",
        "            n for n in os.listdir(os.path.join(images_in_folder, pose_class_name))\n",
        "            if not n.startswith('.')])\n",
        "        for image_name in tqdm.tqdm(image_names, position=0):\n",
        "            # Load image.\n",
        "            input_frame = cv2.imread(os.path.join(images_in_folder, pose_class_name, image_name))\n",
        "            pose_landmarks = landmarks(input_frame)\n",
        "\n",
        "            try:\n",
        "                csv_out_writer.writerow([image_name, pose_class_name] + pose_landmarks)\n",
        "            except:\n",
        "                pass"
      ],
      "execution_count": 7,
      "outputs": [
        {
          "output_type": "stream",
          "text": [
            "Bootstrapping  do\n",
            "100%|██████████| 183/183 [00:21<00:00,  8.65it/s]\n",
            "Bootstrapping  do_not\n",
            "100%|██████████| 162/162 [00:19<00:00,  8.21it/s]\n"
          ],
          "name": "stderr"
        }
      ]
    },
    {
      "cell_type": "code",
      "metadata": {
        "id": "ddp7r9K_8K8x"
      },
      "source": [
        "def knn(result_csv_file=\"study_result.csv\"):\n",
        "    data = pd.read_csv(result_csv_file, header=None)\n",
        "    x_train, y_train = data.iloc[:, 2:], data.iloc[:, 1]\n",
        "\n",
        "    classifier = KNeighborsClassifier(n_neighbors = 3)\n",
        "\n",
        "    classifier.fit(x_train, y_train)\n",
        "    return classifier\n",
        "\n",
        "classifier = knn()"
      ],
      "execution_count": 8,
      "outputs": []
    },
    {
      "cell_type": "code",
      "metadata": {
        "id": "00v_Cr_gNGHW"
      },
      "source": [
        "data = pd.read_csv(\"study_result.csv\", header=None)\n",
        "x, y = data.iloc[:, 2:], data.iloc[:, 1]\n",
        "correct = 0\n",
        "for i in range(len(data)):\n",
        "    sample = np.array(x.iloc[i, :]).reshape(1, -1)\n",
        "    pred = classifier.predict(sample)\n",
        "    if pred[0] == y[i]:\n",
        "        correct += 1\n",
        "print(correct / len(data))\n",
        "\n",
        "\"\"\"\n",
        "do = sorted([n for n in os.listdir(\"study/do_not\") if not n.startswith('.')])\n",
        "do_not = sorted([n for n in os.listdir(\"study/do_not\") if not n.startswith('.')])\n",
        "\n",
        "for i in do_not:\n",
        "    input_frame = cv2.imread(f\"study/do_not/{i}\")\n",
        "    try:\n",
        "        result = landmarks(input_frame)\n",
        "        result = np.array(result).reshape(1, -1)\n",
        "        print(classifier.predict(result), i)\n",
        "    except:\n",
        "        pass\n",
        "\"\"\""
      ],
      "execution_count": null,
      "outputs": []
    },
    {
      "cell_type": "code",
      "metadata": {
        "id": "Ahm59E4szvjT",
        "colab": {
          "base_uri": "https://localhost:8080/"
        },
        "outputId": "f0b51e09-7d90-42f5-e306-8148f17630b2"
      },
      "source": [
        "joblib.dump(classifier, 'model.pkl') \n",
        "\n",
        "#clf_from_joblib = joblib.load('model.pkl') \n",
        "#clf_from_joblib.predict(x_train)"
      ],
      "execution_count": null,
      "outputs": [
        {
          "output_type": "execute_result",
          "data": {
            "text/plain": [
              "['model.pkl']"
            ]
          },
          "metadata": {
            "tags": []
          },
          "execution_count": 58
        }
      ]
    },
    {
      "cell_type": "code",
      "metadata": {
        "id": "6-empfAY9AgO"
      },
      "source": [
        ""
      ],
      "execution_count": null,
      "outputs": []
    }
  ]
}
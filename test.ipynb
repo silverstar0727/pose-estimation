{
  "nbformat": 4,
  "nbformat_minor": 0,
  "metadata": {
    "colab": {
      "name": "test.ipynb",
      "provenance": [],
      "collapsed_sections": [],
      "authorship_tag": "ABX9TyM7SRMYdRrbmC8kx7x1Bsk/",
      "include_colab_link": true
    },
    "kernelspec": {
      "name": "python3",
      "display_name": "Python 3"
    },
    "language_info": {
      "name": "python"
    }
  },
  "cells": [
    {
      "cell_type": "markdown",
      "metadata": {
        "id": "view-in-github",
        "colab_type": "text"
      },
      "source": [
        "<a href=\"https://colab.research.google.com/github/silverstar0727/pose-estimation/blob/main/test.ipynb\" target=\"_parent\"><img src=\"https://colab.research.google.com/assets/colab-badge.svg\" alt=\"Open In Colab\"/></a>"
      ]
    },
    {
      "cell_type": "code",
      "metadata": {
        "id": "LM244BwFIdYV",
        "colab": {
          "base_uri": "https://localhost:8080/"
        },
        "outputId": "ba37fdbf-453d-4213-fd65-bc0dadcd3845"
      },
      "source": [
        "!pip install numpy==1.19.3\n",
        "!pip install opencv-python==4.5.1.48\n",
        "!pip install tqdm==4.56.0\n",
        "\n",
        "!pip install mediapipe==0.8.3"
      ],
      "execution_count": null,
      "outputs": [
        {
          "output_type": "stream",
          "text": [
            "Requirement already satisfied: numpy==1.19.3 in /usr/local/lib/python3.7/dist-packages (1.19.3)\n",
            "Requirement already satisfied: opencv-python==4.5.1.48 in /usr/local/lib/python3.7/dist-packages (4.5.1.48)\n",
            "Requirement already satisfied: numpy>=1.14.5 in /usr/local/lib/python3.7/dist-packages (from opencv-python==4.5.1.48) (1.19.3)\n",
            "Requirement already satisfied: tqdm==4.56.0 in /usr/local/lib/python3.7/dist-packages (4.56.0)\n",
            "Requirement already satisfied: mediapipe==0.8.3 in /usr/local/lib/python3.7/dist-packages (0.8.3)\n",
            "Requirement already satisfied: protobuf>=3.11.4 in /usr/local/lib/python3.7/dist-packages (from mediapipe==0.8.3) (3.17.3)\n",
            "Requirement already satisfied: absl-py in /usr/local/lib/python3.7/dist-packages (from mediapipe==0.8.3) (0.12.0)\n",
            "Requirement already satisfied: attrs in /usr/local/lib/python3.7/dist-packages (from mediapipe==0.8.3) (21.2.0)\n",
            "Requirement already satisfied: six in /usr/local/lib/python3.7/dist-packages (from mediapipe==0.8.3) (1.15.0)\n",
            "Requirement already satisfied: numpy==1.19.3 in /usr/local/lib/python3.7/dist-packages (from mediapipe==0.8.3) (1.19.3)\n",
            "Requirement already satisfied: wheel in /usr/local/lib/python3.7/dist-packages (from mediapipe==0.8.3) (0.36.2)\n",
            "Requirement already satisfied: opencv-python in /usr/local/lib/python3.7/dist-packages (from mediapipe==0.8.3) (4.5.1.48)\n",
            "Requirement already satisfied: dataclasses in /usr/local/lib/python3.7/dist-packages (from mediapipe==0.8.3) (0.6)\n"
          ],
          "name": "stdout"
        }
      ]
    },
    {
      "cell_type": "code",
      "metadata": {
        "id": "Ixo9eqWPH7R8",
        "colab": {
          "base_uri": "https://localhost:8080/"
        },
        "outputId": "c74dbc16-7750-46d3-a07a-33463d5a68e3"
      },
      "source": [
        "import csv\n",
        "import cv2\n",
        "import numpy as np\n",
        "import os\n",
        "import sys\n",
        "import tqdm\n",
        "import pandas as pd\n",
        "\n",
        "from mediapipe.python.solutions import pose as mp_pose\n",
        "\n",
        "import pickle\n",
        "from sklearn.externals import joblib\n",
        "from sklearn.neighbors import KNeighborsClassifier"
      ],
      "execution_count": null,
      "outputs": [
        {
          "output_type": "stream",
          "text": [
            "/usr/local/lib/python3.7/dist-packages/sklearn/externals/joblib/__init__.py:15: FutureWarning: sklearn.externals.joblib is deprecated in 0.21 and will be removed in 0.23. Please import this functionality directly from joblib, which can be installed with: pip install joblib. If this warning is raised when loading pickled models, you may need to re-serialize those models with scikit-learn 0.21+.\n",
            "  warnings.warn(msg, category=FutureWarning)\n"
          ],
          "name": "stderr"
        }
      ]
    },
    {
      "cell_type": "code",
      "metadata": {
        "id": "lfOzz41HLRon"
      },
      "source": [
        "def landmarks(input_frame):\n",
        "    input_frame = cv2.cvtColor(input_frame, cv2.COLOR_BGR2RGB)\n",
        "\n",
        "      # Initialize fresh pose tracker and run it.\n",
        "    with mp_pose.Pose(upper_body_only=True) as pose_tracker:\n",
        "        result = pose_tracker.process(image=input_frame)\n",
        "        pose_landmarks = result.pose_landmarks\n",
        "      \n",
        "      # Save landmarks.\n",
        "    if pose_landmarks is not None:\n",
        "        # Check the number of landmarks and take pose landmarks.\n",
        "        assert len(pose_landmarks.landmark) == 25, 'Unexpected number of predicted pose landmarks: {}'.format(len(pose_landmarks.landmark))\n",
        "        pose_landmarks = [[lmk.x, lmk.y, lmk.z] for lmk in pose_landmarks.landmark]\n",
        "\n",
        "        # Map pose landmarks from [0, 1] range to absolute coordinates to get\n",
        "        # correct aspect ratio.\n",
        "        frame_height, frame_width = input_frame.shape[:2]\n",
        "        pose_landmarks *= np.array([frame_width, frame_height, frame_width])\n",
        "\n",
        "        # Write pose sample to CSV.\n",
        "        pose_landmarks = np.around(pose_landmarks, 5).flatten().astype(np.float64).tolist()\n",
        "\n",
        "        return pose_landmarks"
      ],
      "execution_count": null,
      "outputs": []
    },
    {
      "cell_type": "code",
      "metadata": {
        "colab": {
          "base_uri": "https://localhost:8080/"
        },
        "id": "ynFPssVRNGOp",
        "outputId": "90660e86-1890-4de7-d2b7-00b60bb5ec34"
      },
      "source": [
        "images_in_folder = 'study'\n",
        "images_out_folder = 'stduy_out'\n",
        "csv_out_path = 'study_result.csv'\n",
        "\n",
        "with open(csv_out_path, 'w') as csv_out_file:\n",
        "    csv_out_writer = csv.writer(csv_out_file, delimiter=',', quoting=csv.QUOTE_MINIMAL)\n",
        "\n",
        "    # Folder names are used as pose class names.\n",
        "    pose_class_names = sorted([n for n in os.listdir(images_in_folder) if not n.startswith('.')])\n",
        "\n",
        "    for pose_class_name in pose_class_names:\n",
        "        print('Bootstrapping ', pose_class_name, file=sys.stderr)\n",
        "\n",
        "        if not os.path.exists(os.path.join(images_out_folder, pose_class_name)):\n",
        "            os.makedirs(os.path.join(images_out_folder, pose_class_name))\n",
        "\n",
        "        image_names = sorted([\n",
        "            n for n in os.listdir(os.path.join(images_in_folder, pose_class_name))\n",
        "            if not n.startswith('.')])\n",
        "        for image_name in tqdm.tqdm(image_names, position=0):\n",
        "            # Load image.\n",
        "            input_frame = cv2.imread(os.path.join(images_in_folder, pose_class_name, image_name))\n",
        "            pose_landmarks = landmarks(input_frame)\n",
        "\n",
        "            try:\n",
        "                csv_out_writer.writerow([image_name, pose_class_name] + pose_landmarks)\n",
        "            except:\n",
        "                pass"
      ],
      "execution_count": null,
      "outputs": [
        {
          "output_type": "stream",
          "text": [
            "Bootstrapping  do\n",
            "100%|██████████| 183/183 [00:21<00:00,  8.57it/s]\n",
            "Bootstrapping  do_not\n",
            "100%|██████████| 162/162 [00:19<00:00,  8.16it/s]\n"
          ],
          "name": "stderr"
        }
      ]
    },
    {
      "cell_type": "code",
      "metadata": {
        "id": "ddp7r9K_8K8x"
      },
      "source": [
        "def knn(result_csv_file=\"study_result.csv\"):\n",
        "    data = pd.read_csv(result_csv_file, header=None)\n",
        "    x_train, y_train = data.iloc[:, 2:], data.iloc[:, 1]\n",
        "\n",
        "    classifier = KNeighborsClassifier(n_neighbors = 3)\n",
        "\n",
        "    classifier.fit(x_train, y_train)\n",
        "    return classifier\n",
        "\n",
        "classifier = knn()"
      ],
      "execution_count": null,
      "outputs": []
    },
    {
      "cell_type": "code",
      "metadata": {
        "colab": {
          "base_uri": "https://localhost:8080/"
        },
        "id": "00v_Cr_gNGHW",
        "outputId": "be3df38b-7dc2-476f-ac67-6bfc4ff36e5f"
      },
      "source": [
        "do = sorted([n for n in os.listdir(\"study/do_not\") if not n.startswith('.')])\n",
        "do_not = sorted([n for n in os.listdir(\"study/do_not\") if not n.startswith('.')])\n",
        "\n",
        "for i in do_not:\n",
        "    input_frame = cv2.imread(f\"study/do_not/{i}\")\n",
        "    try:\n",
        "        result = landmarks(input_frame)\n",
        "        result = np.array(result).reshape(1, -1)\n",
        "        print(classifier.predict(result), i)\n",
        "    except:\n",
        "        pass"
      ],
      "execution_count": null,
      "outputs": [
        {
          "output_type": "stream",
          "text": [
            "['do_not'] image_011.jpg\n",
            "['do_not'] image_012.jpg\n",
            "['do_not'] image_014.jpg\n",
            "['do_not'] image_015.jpg\n",
            "['do_not'] image_016.jpg\n",
            "['do_not'] image_017.jpg\n",
            "['do_not'] image_018.jpg\n",
            "['do_not'] image_019.jpg\n",
            "['do_not'] image_027.jpg\n",
            "['do_not'] image_028.jpg\n",
            "['do_not'] image_029.jpg\n",
            "['do_not'] image_030.jpg\n",
            "['do_not'] image_031.jpg\n",
            "['do_not'] image_032.jpg\n",
            "['do_not'] image_033.jpg\n",
            "['do_not'] image_034.jpg\n",
            "['do_not'] image_035.jpg\n",
            "['do_not'] image_036.jpg\n",
            "['do_not'] image_056.jpg\n",
            "['do_not'] image_057.jpg\n",
            "['do_not'] image_058.jpg\n",
            "['do_not'] image_059.jpg\n",
            "['do_not'] image_060.jpg\n",
            "['do_not'] image_061.jpg\n",
            "['do_not'] image_062.jpg\n",
            "['do_not'] image_063.jpg\n",
            "['do_not'] image_064.jpg\n",
            "['do_not'] image_065.jpg\n",
            "['do_not'] image_066.jpg\n",
            "['do_not'] image_067.jpg\n",
            "['do_not'] image_068.jpg\n",
            "['do_not'] image_069.jpg\n",
            "['do_not'] image_070.jpg\n",
            "['do_not'] image_071.jpg\n",
            "['do_not'] image_072.jpg\n",
            "['do_not'] image_073.jpg\n",
            "['do_not'] image_074.jpg\n",
            "['do_not'] image_075.jpg\n",
            "['do_not'] image_076.jpg\n",
            "['do_not'] image_077.jpg\n",
            "['do_not'] image_078.jpg\n",
            "['do_not'] image_079.jpg\n",
            "['do_not'] image_080.jpg\n",
            "['do_not'] image_081.jpg\n",
            "['do_not'] image_082.jpg\n",
            "['do_not'] image_083.jpg\n",
            "['do_not'] image_084.jpg\n",
            "['do_not'] image_085.jpg\n",
            "['do_not'] image_086.jpg\n",
            "['do_not'] image_087.jpg\n",
            "['do_not'] image_088.jpg\n",
            "['do_not'] image_089.jpg\n",
            "['do_not'] image_090.jpg\n",
            "['do_not'] image_091.jpg\n",
            "['do_not'] image_092.jpg\n",
            "['do_not'] image_093.jpg\n",
            "['do_not'] image_094.jpg\n",
            "['do_not'] image_095.jpg\n",
            "['do_not'] image_096.jpg\n",
            "['do_not'] image_097.jpg\n",
            "['do_not'] image_098.jpg\n",
            "['do_not'] image_099.jpg\n",
            "['do_not'] image_100.jpg\n",
            "['do_not'] image_101.jpg\n",
            "['do_not'] image_102.jpg\n",
            "['do_not'] image_103.jpg\n",
            "['do_not'] image_104.jpg\n",
            "['do_not'] image_105.jpg\n",
            "['do_not'] image_106.jpg\n",
            "['do_not'] image_107.jpg\n",
            "['do_not'] image_108.jpg\n",
            "['do_not'] image_109.jpg\n",
            "['do_not'] image_110.jpg\n",
            "['do_not'] image_111.jpg\n",
            "['do_not'] image_112.jpg\n",
            "['do_not'] image_113.jpg\n",
            "['do_not'] image_114.jpg\n",
            "['do_not'] image_115.jpg\n",
            "['do_not'] image_116.jpg\n",
            "['do_not'] image_117.jpg\n",
            "['do_not'] image_118.jpg\n",
            "['do_not'] image_119.jpg\n",
            "['do_not'] image_120.jpg\n",
            "['do_not'] image_121.jpg\n",
            "['do_not'] image_122.jpg\n",
            "['do_not'] image_123.jpg\n",
            "['do_not'] image_124.jpg\n",
            "['do_not'] image_125.jpg\n",
            "['do_not'] image_126.jpg\n",
            "['do_not'] image_127.jpg\n",
            "['do_not'] image_128.jpg\n",
            "['do_not'] image_129.jpg\n",
            "['do_not'] image_130.jpg\n",
            "['do_not'] image_131.jpg\n",
            "['do_not'] image_132.jpg\n",
            "['do_not'] image_133.jpg\n",
            "['do_not'] image_134.jpg\n",
            "['do_not'] image_135.jpg\n",
            "['do_not'] image_136.jpg\n",
            "['do_not'] image_137.jpg\n",
            "['do_not'] image_138.jpg\n",
            "['do_not'] image_139.jpg\n",
            "['do_not'] image_140.jpg\n",
            "['do_not'] image_141.jpg\n",
            "['do_not'] image_142.jpg\n",
            "['do_not'] image_143.jpg\n",
            "['do_not'] image_144.jpg\n",
            "['do_not'] image_145.jpg\n",
            "['do_not'] image_146.jpg\n",
            "['do_not'] image_147.jpg\n",
            "['do_not'] image_148.jpg\n",
            "['do_not'] image_149.jpg\n",
            "['do_not'] image_150.jpg\n",
            "['do_not'] image_151.jpg\n",
            "['do_not'] image_152.jpg\n",
            "['do_not'] image_153.jpg\n",
            "['do_not'] image_154.jpg\n",
            "['do_not'] image_155.jpg\n",
            "['do_not'] image_156.jpg\n",
            "['do_not'] image_157.jpg\n",
            "['do_not'] image_158.jpg\n",
            "['do_not'] image_159.jpg\n",
            "['do_not'] image_160.jpg\n",
            "['do_not'] image_161.jpg\n"
          ],
          "name": "stdout"
        }
      ]
    },
    {
      "cell_type": "code",
      "metadata": {
        "id": "Ahm59E4szvjT",
        "colab": {
          "base_uri": "https://localhost:8080/"
        },
        "outputId": "f0b51e09-7d90-42f5-e306-8148f17630b2"
      },
      "source": [
        "joblib.dump(classifier, 'model.pkl') \n",
        "\n",
        "#clf_from_joblib = joblib.load('model.pkl') \n",
        "#clf_from_joblib.predict(x_train)"
      ],
      "execution_count": null,
      "outputs": [
        {
          "output_type": "execute_result",
          "data": {
            "text/plain": [
              "['model.pkl']"
            ]
          },
          "metadata": {
            "tags": []
          },
          "execution_count": 58
        }
      ]
    },
    {
      "cell_type": "code",
      "metadata": {
        "id": "6-empfAY9AgO"
      },
      "source": [
        ""
      ],
      "execution_count": null,
      "outputs": []
    }
  ]
}
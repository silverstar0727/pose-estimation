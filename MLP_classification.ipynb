{
  "nbformat": 4,
  "nbformat_minor": 0,
  "metadata": {
    "colab": {
      "name": "MLP_classification.ipynb",
      "provenance": [],
      "collapsed_sections": [],
      "authorship_tag": "ABX9TyOkehhu6GmygF6lCGNi67bz",
      "include_colab_link": true
    },
    "kernelspec": {
      "name": "python3",
      "display_name": "Python 3"
    },
    "language_info": {
      "name": "python"
    }
  },
  "cells": [
    {
      "cell_type": "markdown",
      "metadata": {
        "id": "view-in-github",
        "colab_type": "text"
      },
      "source": [
        "<a href=\"https://colab.research.google.com/github/silverstar0727/pose-estimation/blob/main/MLP_classification.ipynb\" target=\"_parent\"><img src=\"https://colab.research.google.com/assets/colab-badge.svg\" alt=\"Open In Colab\"/></a>"
      ]
    },
    {
      "cell_type": "code",
      "metadata": {
        "id": "9_wN0WnMRgKo"
      },
      "source": [
        "import pandas as pd\n",
        "import numpy as np\n",
        "\n",
        "import tensorflow as tf"
      ],
      "execution_count": 4,
      "outputs": []
    },
    {
      "cell_type": "code",
      "metadata": {
        "id": "Zqgf25G8R5Wb"
      },
      "source": [
        "data = pd.read_csv(\"study_result.csv\", header=None)"
      ],
      "execution_count": 9,
      "outputs": []
    },
    {
      "cell_type": "code",
      "metadata": {
        "id": "FXOTcho8VwS1"
      },
      "source": [
        "x_train = np.array(data.iloc[:, 2:])\n",
        "\n",
        "temp = []\n",
        "for i in data.iloc[:, 1]:\n",
        "    if i == 'do':\n",
        "        temp.append(1)\n",
        "    else:\n",
        "        temp.append(0)\n",
        "\n",
        "y_train = np.array(temp)"
      ],
      "execution_count": 20,
      "outputs": []
    },
    {
      "cell_type": "code",
      "metadata": {
        "id": "7TNh2FoeR8p9"
      },
      "source": [
        "model = tf.keras.models.Sequential([tf.keras.layers.Dense(256),\n",
        "                                    tf.keras.layers.Dense(1024),\n",
        "                                    tf.keras.layers.Dense(512),\n",
        "                                    tf.keras.layers.Dense(128),\n",
        "                                    tf.keras.layers.Dense(2, activation='softmax')])"
      ],
      "execution_count": 23,
      "outputs": []
    },
    {
      "cell_type": "code",
      "metadata": {
        "id": "29a-VlDVUn38"
      },
      "source": [
        "model.compile(optimizer='adam',\n",
        "              loss='sparse_categorical_crossentropy',\n",
        "              metrics=['accuracy'])"
      ],
      "execution_count": 24,
      "outputs": []
    },
    {
      "cell_type": "code",
      "metadata": {
        "colab": {
          "base_uri": "https://localhost:8080/"
        },
        "id": "hIVMN-loUutA",
        "outputId": "c64fcb33-9c49-4657-cce6-50052b3c4941"
      },
      "source": [
        "model.fit(x_train, y_train, epochs=5)"
      ],
      "execution_count": 48,
      "outputs": [
        {
          "output_type": "stream",
          "text": [
            "Epoch 1/5\n",
            "8/8 [==============================] - 0s 12ms/step - loss: 1.4640e-08 - accuracy: 1.0000\n",
            "Epoch 2/5\n",
            "8/8 [==============================] - 0s 13ms/step - loss: 1.4640e-08 - accuracy: 1.0000\n",
            "Epoch 3/5\n",
            "8/8 [==============================] - 0s 13ms/step - loss: 1.4640e-08 - accuracy: 1.0000\n",
            "Epoch 4/5\n",
            "8/8 [==============================] - 0s 13ms/step - loss: 1.4640e-08 - accuracy: 1.0000\n",
            "Epoch 5/5\n",
            "8/8 [==============================] - 0s 13ms/step - loss: 1.4640e-08 - accuracy: 1.0000\n"
          ],
          "name": "stdout"
        },
        {
          "output_type": "execute_result",
          "data": {
            "text/plain": [
              "<tensorflow.python.keras.callbacks.History at 0x7fe761d43f90>"
            ]
          },
          "metadata": {
            "tags": []
          },
          "execution_count": 48
        }
      ]
    },
    {
      "cell_type": "code",
      "metadata": {
        "id": "anpMC4KoYfiq"
      },
      "source": [
        ""
      ],
      "execution_count": null,
      "outputs": []
    }
  ]
}